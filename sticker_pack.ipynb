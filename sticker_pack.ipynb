{
 "cells": [
  {
   "cell_type": "code",
   "execution_count": 2,
   "id": "de57b9ba",
   "metadata": {},
   "outputs": [],
   "source": [
    "from datetime import datetime, date\n",
    "\n",
    "current_time = datetime.now()\n",
    "\n",
    "class User():\n",
    "    phone = int()\n",
    "    name = str()\n",
    "    sticker_pack_children = []\n",
    "    coupons = []\n",
    "    \n",
    "    def __init__(self, phone, name):\n",
    "        self.phone = phone\n",
    "        self.name = name\n",
    "        \n",
    "    def add_sticker_pack_children(self, children):\n",
    "        self.sticker_pack_children.append(children)\n",
    "        return self.sticker_pack_children\n",
    "    \n",
    "    def add_coupon_child(self, child):\n",
    "        self.coupons.append(child)\n",
    "        return self.coupons\n",
    "\n",
    "    def __str__(self):\n",
    "        return f'{self.phone}, {self.name}'\n",
    "\n",
    "    def __repr__(self):\n",
    "        return f'{self.phone}, {self.name}'\n",
    "\n",
    "class StickerPack():\n",
    "    name = str()\n",
    "    date_from = date\n",
    "    date_to = date\n",
    "    description = str()\n",
    "    empty_image = str()\n",
    "    full_image = str()\n",
    "    children = []\n",
    "    children_count = 0\n",
    "    achievements = tuple()\n",
    "\n",
    "    def __init__(self, name,\n",
    "                 date_from, date_to,\n",
    "                 descrtiption, \n",
    "                 empty_image,\n",
    "                 full_image, \n",
    "                 achievements\n",
    "                ):\n",
    "        if date_from > date_to:          \n",
    "            raise ValueError('date_from should be less than date_to')\n",
    "        self.name = name\n",
    "        self.date_from = date_from\n",
    "        self.date_to = date_to\n",
    "        self.descrtiption = descrtiption\n",
    "        self.empty_image = empty_image\n",
    "        self.full_image = full_image\n",
    "        self.achievements = achievements\n",
    "\n",
    "    def add_to_user(self, user):\n",
    "        if self.date_to >= datetime.now().date() >= self.date_from:\n",
    "            able_to_add = True\n",
    "            for sp_child in user.sticker_pack_children:\n",
    "                if sp_child.parent == self:\n",
    "                    able_to_add = False\n",
    "                    break\n",
    "            if able_to_add:\n",
    "                child = StickerPackChild(self, user)\n",
    "                self.children.append(child)\n",
    "                user.add_sticker_pack_children(child)\n",
    "                self.children_count = len(self.children)\n",
    "                return user\n",
    "            return 'Already added you can improve count'\n",
    "        if self.date_to < datetime.now().date():\n",
    "            return 'Stickerpack time elapsed'\n",
    "        if self.date_from > datetime.now().date():\n",
    "            return 'Sticker pack will be available in future'\n",
    "        \n",
    "    def add_to_users(self, users):\n",
    "        result_array = []\n",
    "        for user in users:\n",
    "            result_array.append(\n",
    "                self.add_to_user(user)\n",
    "            )\n",
    "        already_added = result_array.count('Already added you can improve count')\n",
    "        elapsed = result_array.count('Stickerpack time elapsed')\n",
    "        future = result_array.count('Sticker pack will be available in future')\n",
    "        return f'{len(result_array) - already_added - elapsed - future} added to Sticker Pack'\n",
    "\n",
    "    def retrieve_users_list(self):\n",
    "        users_list = []\n",
    "        for child in self.children:\n",
    "            users_list.append(child.related_user)\n",
    "        return users_list\n",
    "\n",
    "    def count_participants(self):\n",
    "        return len(self.retrieve_users_list())\n",
    "\n",
    "    def __str__(self):\n",
    "        return f'[{self.name}, {self.date_from}, {self.children}]'\n",
    "\n",
    "    def __repr__(self):\n",
    "        return f'[{self.name}, {self.date_from}, {self.children}]'\n",
    "\n",
    "class StickerPackChild():\n",
    "    parent = StickerPack\n",
    "    stickers_count = 0\n",
    "    related_user = User\n",
    "    achievements = tuple()\n",
    "\n",
    "    def __init__(self, parent, related_user):\n",
    "        self.parent = parent\n",
    "        self.related_user = related_user\n",
    "        self.achievements = parent.achievements\n",
    "\n",
    "    def add_sticker(self):\n",
    "        self.stickers_count += 1\n",
    "        return self.stickers_count\n",
    "\n",
    "    def add_stickers(self, stickers):\n",
    "        self.stickers_count += stickers \n",
    "        return self.stickers_count\n",
    "\n",
    "    def redeem_stickers(self, achievement_number):\n",
    "        if self._can_redeem(achievement_number):\n",
    "            if not self._limit_exceed(achievement_number):\n",
    "                self.stickers_count = \\\n",
    "                self.stickers_count - \\\n",
    "                self.achievements[achievement_number]['cost']\n",
    "                self.achievements[achievement_number]['count'] = \\\n",
    "                self.achievements[achievement_number].get('count', 0) + 1\n",
    "                # + some logic to give type of achievent to user\n",
    "                # + some logic to give type of achievent to user\n",
    "                # + some logic to give type of achievent to user\n",
    "                # + some logic to give type of achievent to user\n",
    "                return f'New balance: {self.stickers_count}'\n",
    "            return 'Limit exceeded'\n",
    "        return 'Not enought stickers'\n",
    "\n",
    "    def _can_redeem(self, achievement_number):\n",
    "        if self.stickers_count >= \\\n",
    "        self.achievements[achievement_number]['cost']:\n",
    "            return True\n",
    "        return False\n",
    "\n",
    "    def _limit_exceed(self, achievement_number):\n",
    "        achievement = self.achievements[achievement_number]\n",
    "        if 'count' in achievement:\n",
    "            return achievement['count'] >= achievement['limit_per_user']\n",
    "        return False\n",
    "\n",
    "    def __str__(self):\n",
    "        return f'[{self.parent.name}, {self.stickers_count}, {self.related_user}]'\n",
    "\n",
    "    def __repr__(self):\n",
    "        return f'[{self.parent.name}, {self.stickers_count}, {self.related_user}]'\n",
    "    \n",
    "class Coupon():\n",
    "    coupon_id = int()\n",
    "    name = str()\n",
    "    coupon_type = str()\n",
    "    description = str()\n",
    "    def __init__(self, coupon_id, name, coupon_type, description):\n",
    "        self.coupon_id = coupon_id\n",
    "        self.name = name\n",
    "        self.coupon_type = coupon_type\n",
    "        self.description = description\n",
    "    def assign_to(self, user):\n",
    "        user.add_coupon_child(self)\n",
    "        return user.coupons\n",
    "        \n",
    "\n",
    "#TYPE OF ACHIEVEMENT\n",
    "#Купон\n",
    "achievement_coupon = {\n",
    "    \"cost\": 5,\n",
    "    \"name\": \"Supper dupper coupon\",\n",
    "    \"type\": \"coupon\",\n",
    "    \"value\": 23, #id coupon\n",
    "    \"limit_per_user\": 3\n",
    "}\n",
    "\n",
    "#прямое начисление\n",
    "achievement_direct_money = {\n",
    "    \"cost\": 15,\n",
    "    \"name\": \"Direct cash to balance\",\n",
    "    'type': \"bonuses\",\n",
    "    \"value\": 5000, #amount of bonuses\n",
    "    \"limit_per_user\": 10\n",
    "}\n",
    "\n",
    "achievements = (achievement_coupon, achievement_direct_money)"
   ]
  },
  {
   "cell_type": "code",
   "execution_count": 2,
   "id": "79c0d407",
   "metadata": {},
   "outputs": [],
   "source": [
    "new_user = User(7076336633, 'Bekbolat')\n",
    "new_sp = StickerPack('фишки', date(2023, 1, 1), date(2023, 12, 31), 'desc', 'empty.jpg', 'full.jpg', achievements)"
   ]
  },
  {
   "cell_type": "code",
   "execution_count": null,
   "id": "f8abf35f",
   "metadata": {},
   "outputs": [],
   "source": [
    "new_sp.achievements"
   ]
  },
  {
   "cell_type": "code",
   "execution_count": null,
   "id": "17323540",
   "metadata": {},
   "outputs": [],
   "source": [
    "new_sp.achievements[0]"
   ]
  },
  {
   "cell_type": "code",
   "execution_count": 3,
   "id": "9de0291e",
   "metadata": {},
   "outputs": [
    {
     "data": {
      "text/plain": [
       "7076336633, Bekbolat"
      ]
     },
     "execution_count": 3,
     "metadata": {},
     "output_type": "execute_result"
    }
   ],
   "source": [
    "new_sp.add_to_user(new_user)"
   ]
  },
  {
   "cell_type": "code",
   "execution_count": 4,
   "id": "4e723bf1",
   "metadata": {},
   "outputs": [
    {
     "data": {
      "text/plain": [
       "'Already added you can improve count'"
      ]
     },
     "execution_count": 4,
     "metadata": {},
     "output_type": "execute_result"
    }
   ],
   "source": [
    "new_sp.add_to_user(new_user)"
   ]
  },
  {
   "cell_type": "code",
   "execution_count": null,
   "id": "c53cc57f",
   "metadata": {},
   "outputs": [],
   "source": [
    "elapsed_sp = StickerPack('фишки просрочка', date(2023, 1, 1), date(2023, 1, 12), 'desc', 'empty.jpg', 'full.jpg', achievements)"
   ]
  },
  {
   "cell_type": "code",
   "execution_count": null,
   "id": "e7fb5f8f",
   "metadata": {},
   "outputs": [],
   "source": [
    "elapsed_sp.add_to_user(new_user)"
   ]
  },
  {
   "cell_type": "code",
   "execution_count": null,
   "id": "545019b0",
   "metadata": {},
   "outputs": [],
   "source": [
    "early_sp = StickerPack('фишки просрочка', date(2023, 1, 15), date(2023, 1, 30), 'desc', 'empty.jpg', 'full.jpg', achievements)\n",
    "early_sp.add_to_user(new_user)"
   ]
  },
  {
   "cell_type": "code",
   "execution_count": 5,
   "id": "a85a445c",
   "metadata": {},
   "outputs": [
    {
     "data": {
      "text/plain": [
       "5"
      ]
     },
     "execution_count": 5,
     "metadata": {},
     "output_type": "execute_result"
    }
   ],
   "source": [
    "new_user.sticker_pack_children[0].add_sticker()\n",
    "new_user.sticker_pack_children[0].add_sticker()\n",
    "new_user.sticker_pack_children[0].add_sticker()\n",
    "new_user.sticker_pack_children[0].add_sticker()\n",
    "new_user.sticker_pack_children[0].add_sticker()"
   ]
  },
  {
   "cell_type": "code",
   "execution_count": 6,
   "id": "e92de355",
   "metadata": {},
   "outputs": [
    {
     "data": {
      "text/plain": [
       "({'cost': 5,\n",
       "  'name': 'Supper dupper coupon',\n",
       "  'type': 'coupon',\n",
       "  'value': 23,\n",
       "  'limit_per_user': 3},\n",
       " {'cost': 10,\n",
       "  'name': 'Super partner code',\n",
       "  'type': 'partner_code',\n",
       "  'value': 40,\n",
       "  'limit_per_user': 1},\n",
       " {'cost': 15,\n",
       "  'name': 'Direct cash to balance',\n",
       "  'type': 'bonuses',\n",
       "  'value': 5000,\n",
       "  'limit_per_user': 10})"
      ]
     },
     "execution_count": 6,
     "metadata": {},
     "output_type": "execute_result"
    }
   ],
   "source": [
    "new_user.sticker_pack_children[0].achievements"
   ]
  },
  {
   "cell_type": "code",
   "execution_count": 8,
   "id": "25d6bf59",
   "metadata": {},
   "outputs": [
    {
     "data": {
      "text/plain": [
       "'New balance: 0'"
      ]
     },
     "execution_count": 8,
     "metadata": {},
     "output_type": "execute_result"
    }
   ],
   "source": [
    "new_user.sticker_pack_children[0].redeem_stickers(0)"
   ]
  },
  {
   "cell_type": "code",
   "execution_count": null,
   "id": "9b59c87b",
   "metadata": {},
   "outputs": [],
   "source": []
  }
 ],
 "metadata": {
  "kernelspec": {
   "display_name": "Python 3 (ipykernel)",
   "language": "python",
   "name": "python3"
  },
  "language_info": {
   "codemirror_mode": {
    "name": "ipython",
    "version": 3
   },
   "file_extension": ".py",
   "mimetype": "text/x-python",
   "name": "python",
   "nbconvert_exporter": "python",
   "pygments_lexer": "ipython3",
   "version": "3.9.7"
  }
 },
 "nbformat": 4,
 "nbformat_minor": 5
}
